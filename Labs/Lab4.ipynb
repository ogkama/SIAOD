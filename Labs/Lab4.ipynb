{
 "cells": [
  {
   "cell_type": "markdown",
   "id": "fifteen-sailing",
   "metadata": {},
   "source": [
    "# Лабораторная работа №4\n",
    "## Выполнил студент группы ФИО ГРУППА"
   ]
  },
  {
   "cell_type": "markdown",
   "id": "7a6732a3",
   "metadata": {},
   "source": [
    "Реализовать следующие структуры данных:\n",
    "  \n",
    "● <b> Стек (stack): </b>  \n",
    "Операции для стека: \n",
    "<i> инициализация, проверка на пустоту, добавление нового элемента в начало, извлечение элемента из начала;  </i>  "
   ]
  },
  {
   "cell_type": "code",
   "execution_count": 50,
   "id": "28468e2e",
   "metadata": {},
   "outputs": [],
   "source": [
    "class Stack:\n",
    "    \n",
    "    def __init__(self, arr:list = None):\n",
    "        if arr == None:\n",
    "            arr = []\n",
    "        self.stack = arr\n",
    "    \n",
    "    def isEmpty(self) -> bool:\n",
    "        return len(self.stack) == 0\n",
    "    \n",
    "    def push(self, item):\n",
    "        self.stack.insert(0,item)\n",
    "    \n",
    "    def pop(self):\n",
    "        if self.isEmpty():\n",
    "            raise Exception(\"Stack is empty\")\n",
    "        return self.stack.pop(0)\n",
    "    \n",
    "    def peek(self):\n",
    "        return self.stack[0]\n",
    "    \n",
    "    def size(self):\n",
    "        return len(self.stack)"
   ]
  },
  {
   "cell_type": "markdown",
   "id": "6f279243",
   "metadata": {},
   "source": [
    "  \n",
    "● <b> Дек (двусторонняя очередь, deque):  </b>  \n",
    "Операции для дека: \n",
    "<i> инициализация, проверка на пустоту, добавление нового элемента в начало, добавление нового элемента в конец, извлечение элемента из начала, извлечение элемента из конца. </i>  \n",
    "  \n",
    "<i> Разработать программу обработки данных, содержащихся в заранее подготовленном txt-файле, в соответствии с заданиями, применив указанную в задании структуру данных. Результат работы программы вывести на экран и сохранить в отдельном txt-файле. </i>"
   ]
  },
  {
   "cell_type": "code",
   "execution_count": 51,
   "id": "1efa2af0",
   "metadata": {},
   "outputs": [],
   "source": [
    "class Dack:\n",
    "    \n",
    "    def __init__(self, arr:list = None):\n",
    "        if arr == None:\n",
    "            arr = []\n",
    "        self.dack = arr\n",
    "        \n",
    "    def isEmpty(self):\n",
    "        return len(self.dack) == 0\n",
    "        \n",
    "    def popFront(self):\n",
    "        if self.isEmpty():\n",
    "            raise Exception(\"Empty dack\")\n",
    "        return self.dack.pop(0)\n",
    "    \n",
    "    def popBack(self):\n",
    "        if self.isEmpty():\n",
    "            raise Exception(\"Empty dack\")\n",
    "        return self.dack.pop(-1)\n",
    "    \n",
    "    def pushBack(self, item):\n",
    "        self.dack.append(item)\n",
    "        \n",
    "    def pushFront(self, item):\n",
    "        self.dack.insert(0, item)\n",
    "        \n",
    "    def size(self):\n",
    "        return len(self.dack)"
   ]
  },
  {
   "cell_type": "markdown",
   "id": "5d7edb08",
   "metadata": {
    "scrolled": true
   },
   "source": [
    "### Задание №1\n",
    "Отсортировать строки файла, содержащие названия книг, в алфавитном порядке с использованием двух деков."
   ]
  },
  {
   "cell_type": "code",
   "execution_count": 52,
   "id": "17702ade",
   "metadata": {},
   "outputs": [
    {
     "name": "stdout",
     "output_type": "stream",
     "text": [
      "19 октября\n",
      "\n",
      "Евгений Онегин\n",
      "\n",
      "Зима, Крестьянин, торжествуя\n",
      "\n",
      "Кавказский пленник\n",
      "\n",
      "Письмо Татьяны к Онегину\n",
      "\n",
      "У лукоморья дуб зеленый\n",
      "\n",
      "Узник\n",
      "\n",
      "Я памятник себе воздвиг нерукотворный\n",
      "\n",
      "Я помню чудное мгновенье\n",
      "\n"
     ]
    }
   ],
   "source": [
    "file = open(\"C:\\\\Users\\\\kamga\\\\Downloads\\\\Telegram Desktop\\\\lab4_1.txt\",encoding=\"utf-8\")\n",
    "\n",
    "def dackSort(file):\n",
    "    dack_1 = Dack()\n",
    "    dack_2 = Dack()    \n",
    "    for line in file:\n",
    "        dack_1.pushBack(line)   \n",
    "    for i in range(0, dack_1.size()):\n",
    "        maxLine = None \n",
    "        while not dack_1.isEmpty():\n",
    "            currentLine = dack_1.popFront()\n",
    "            if (maxLine == None or currentLine > maxLine):\n",
    "                dack_2.pushBack(currentLine)\n",
    "                maxLine = currentLine\n",
    "            else:\n",
    "                dack_2.pushFront(currentLine)       \n",
    "        dack_1, dack_2 = dack_2, dack_1\n",
    "    return dack_1\n",
    "\n",
    "result = dackSort(file)\n",
    "file.close()        \n",
    "while not result.isEmpty():\n",
    "    print(result.popFront())"
   ]
  },
  {
   "cell_type": "markdown",
   "id": "49fbd2a0",
   "metadata": {},
   "source": [
    "### Задание №2\n",
    "Дек содержит последовательность символов для шифровки сообщений. Дан текстовый файл, содержащий зашифрованное сообщение. Пользуясь деком, расшифровать текст. \n",
    "Известно, что при шифровке каждый символ сообщения заменялся следующим за ним в деке по часовой стрелке через один."
   ]
  },
  {
   "cell_type": "code",
   "execution_count": 53,
   "id": "81cab7a8",
   "metadata": {},
   "outputs": [
    {
     "name": "stdout",
     "output_type": "stream",
     "text": [
      "офхук\n",
      "мтуси\n"
     ]
    }
   ],
   "source": [
    "def decipher(message, dack):\n",
    "    result = \"\"\n",
    "    for i in range(0, len(message)):\n",
    "        curMesSymb = message[i]\n",
    "        while True:\n",
    "            curAlphSymb = dack.popBack()\n",
    "            dack.pushFront(curAlphSymb)\n",
    "            if curAlphSymb == curMesSymb:\n",
    "                \n",
    "                dack.pushFront(dack.popBack())\n",
    "                resSymb = dack.popBack()\n",
    "                dack.pushFront(resSymb)\n",
    "                result += resSymb\n",
    "                break            \n",
    "    return result\n",
    "\n",
    "#дек с алфавитом - а, б, в, г...\n",
    "alphabet = open(\"C:\\\\Users\\\\kamga\\\\Downloads\\\\Telegram Desktop\\\\lab4_alphabet.txt\",encoding=\"utf-8\")\n",
    "dack_1 = Dack()\n",
    "for line in alphabet:\n",
    "    dack_1.pushBack(line[0])\n",
    "alphabet.close()\n",
    "\n",
    "#защифрованное сообщение - офхук\n",
    "message = open(\"C:\\\\Users\\\\kamga\\\\Downloads\\\\Telegram Desktop\\\\lab4_message.txt\",encoding=\"utf-8\")\n",
    "message_1 = message.read()\n",
    "message.close()\n",
    "\n",
    "print(message_1)\n",
    "print(decipher(message_1, dack_1))"
   ]
  },
  {
   "cell_type": "markdown",
   "id": "c0894f47",
   "metadata": {},
   "source": [
    "### Задание №3\n",
    "Даны три стержня и n дисков различного размера. Диски можно надевать на стержни, образуя из них башни. Перенести n дисков со стержня А на стержень С, сохранив их первоначальный порядок. При переносе дисков необходимо соблюдать следующие правила:\n",
    "- на каждом шаге со стержня на стержень переносить только один диск;\n",
    "- диск нельзя помещать на диск меньшего размера;\n",
    "- для промежуточного хранения можно использовать стержень В.\n",
    "Реализовать алгоритм, используя три стека вместо стержней А, В, С. Информация о дисках хранится в исходном файле."
   ]
  },
  {
   "cell_type": "code",
   "execution_count": 85,
   "id": "9e91a9d4",
   "metadata": {},
   "outputs": [
    {
     "name": "stdout",
     "output_type": "stream",
     "text": [
      "1\n",
      "2\n",
      "3\n",
      "4\n",
      "5\n"
     ]
    }
   ],
   "source": [
    "def move(x, y):\n",
    "    if x.size() == 0 and y.size() > 0:\n",
    "        x.push(y.pop())\n",
    "    elif x.size() > 0 and y.size() == 0:\n",
    "        y.push(x.pop())\n",
    "    elif x.peek() > y.peek():\n",
    "        x.push(y.pop())\n",
    "    else:\n",
    "        y.push(x.pop())\n",
    "        \n",
    "a = Stack()\n",
    "b = Stack()\n",
    "c = Stack()\n",
    "\n",
    "disks = 5\n",
    "\n",
    "for i in range (disks, 0, -1):\n",
    "    a.push(i)\n",
    "        \n",
    "if disks % 2 == 0:\n",
    "    while c.size() != disks:\n",
    "        move(a, b)\n",
    "        move(a, c)\n",
    "        move(b, c)\n",
    "else:\n",
    "    while c.size() != disks:\n",
    "        move(a, c)\n",
    "        if c.size() == disks:\n",
    "            break\n",
    "        move(a, b)\n",
    "        move(b, c)\n",
    "        \n",
    "while not c.isEmpty():\n",
    "    print(c.pop())"
   ]
  },
  {
   "cell_type": "markdown",
   "id": "e5b0be17",
   "metadata": {},
   "source": [
    "### Задание №4\n",
    "Дан текстовый файл с программой на алгоритмическом языке. За один просмотр файла проверить баланс круглых скобок в тексте, используя стек."
   ]
  },
  {
   "cell_type": "code",
   "execution_count": 54,
   "id": "5b1df60a",
   "metadata": {},
   "outputs": [
    {
     "name": "stdout",
     "output_type": "stream",
     "text": [
      "((mtuci(),()))  -  Balanced\n",
      "((())  -  Not balanced\n",
      "(hello))  -  Not balanced\n"
     ]
    }
   ],
   "source": [
    "def checkSkobki(line):\n",
    "    stack = Stack()\n",
    "    for i in range(len(line)):\n",
    "        item = line[i]\n",
    "        if item == \"(\":\n",
    "            stack.push(item)\n",
    "        elif item == \")\":\n",
    "            if not stack.isEmpty():\n",
    "                stack.pop()\n",
    "            else:\n",
    "                return \"Not balanced\"\n",
    "    if stack.isEmpty():\n",
    "        return \"Balanced\"\n",
    "    return \"Not balanced\"\n",
    "\n",
    "file = open(\"C:\\\\Users\\\\kamga\\\\Downloads\\\\Telegram Desktop\\\\lab4_skobki.txt\",encoding=\"utf-8\")\n",
    "for line in file:\n",
    "    line = line.strip()\n",
    "    print(line,' - ',checkSkobki(line))\n",
    "file.close()"
   ]
  },
  {
   "cell_type": "markdown",
   "id": "c44cdd6b",
   "metadata": {},
   "source": [
    "### Задание №5\n",
    "Дан текстовый файл с программой на алгоритмическом языке. За один просмотр файла проверить баланс квадратных скобок в тексте, используя дек."
   ]
  },
  {
   "cell_type": "code",
   "execution_count": 55,
   "id": "36b8f400",
   "metadata": {},
   "outputs": [
    {
     "name": "stdout",
     "output_type": "stream",
     "text": [
      "[[mtuci[0],[1,2,3]]]  -  Balanced\n",
      "[[[]]  -  Not balanced\n",
      "['hello']]  -  Not balanced\n"
     ]
    }
   ],
   "source": [
    "def checkSkobki2(line:str) -> list:\n",
    "    dack = Dack()\n",
    "    for i in range(len(line)):\n",
    "        item = line[i]\n",
    "        if item == \"[\":\n",
    "            dack.pushBack(item)\n",
    "        elif item == \"]\":\n",
    "            if not dack.isEmpty():\n",
    "                dack.popFront()\n",
    "            else:\n",
    "                return \"Not balanced\"\n",
    "    if dack.isEmpty():\n",
    "        return \"Balanced\"\n",
    "    return \"Not balanced\"\n",
    "\n",
    "file = open(\"C:\\\\Users\\\\kamga\\\\Downloads\\\\Telegram Desktop\\\\lab4_skobki2.txt\",encoding=\"utf-8\")\n",
    "for line in file:\n",
    "    line = line.strip()\n",
    "    print(line,' - ',checkSkobki2(line))\n",
    "file.close()"
   ]
  },
  {
   "cell_type": "markdown",
   "id": "59d13dc7",
   "metadata": {},
   "source": [
    "### Задание №6\n",
    "Дан файл из символов. Используя стек, за один просмотр файла напечатать сначала все цифры, затем все буквы, и, наконец, все остальные символы, сохраняя исходный порядок в каждой группе символов."
   ]
  },
  {
   "cell_type": "code",
   "execution_count": 62,
   "id": "297e36c2",
   "metadata": {},
   "outputs": [
    {
     "name": "stdout",
     "output_type": "stream",
     "text": [
      "4343534sdfrbrlfergfreweywf;[][][[]/"
     ]
    }
   ],
   "source": [
    "def checkSymbol(stack):\n",
    "    while not stack.isEmpty():\n",
    "        item = stack.pop()\n",
    "        if item.isdigit():\n",
    "            digits.push(item)\n",
    "        elif item.isalpha():\n",
    "            letters.push(item)\n",
    "        else:\n",
    "            others.push(item)\n",
    "        \n",
    "file = open(\"C:\\\\Users\\\\kamga\\\\Downloads\\\\Telegram Desktop\\\\lab4_symbols.txt\",encoding=\"utf-8\")\n",
    "symbols = file.read()\n",
    "stack = Stack()\n",
    "digits = Stack()\n",
    "letters = Stack()\n",
    "others = Stack()\n",
    "for i in range(len(symbols)):\n",
    "    stack.push(symbols[i])\n",
    "file.close()\n",
    "\n",
    "checkSymbol(stack)\n",
    "while not digits.isEmpty():\n",
    "    print(digits.pop(), end='')\n",
    "while not letters.isEmpty():\n",
    "    print(letters.pop(), end='')\n",
    "while not others.isEmpty():\n",
    "    print(others.pop(), end='')"
   ]
  },
  {
   "cell_type": "markdown",
   "id": "973f68bd",
   "metadata": {},
   "source": [
    "### Задание №7\n",
    "Дан файл из целых чисел. Используя дек, за один просмотр файла напечатать сначала все отрицательные числа, затем все положительные числа, сохраняя исходный порядок в каждой группе."
   ]
  },
  {
   "cell_type": "code",
   "execution_count": 76,
   "id": "c56fad66",
   "metadata": {},
   "outputs": [
    {
     "name": "stdout",
     "output_type": "stream",
     "text": [
      "1 2 2 12 32 -4 -122 -4 -3 -2 "
     ]
    }
   ],
   "source": [
    "def checkDigit(stack):\n",
    "    while not stack.isEmpty():\n",
    "        item = dack.popFront()\n",
    "        if item >= 0:\n",
    "            digitsPlus.pushBack(item)\n",
    "        else:\n",
    "            digitsMinus.pushBack(item)\n",
    "        \n",
    "file = open(\"C:\\\\Users\\\\kamga\\\\Downloads\\\\Telegram Desktop\\\\lab4_digits.txt\",encoding=\"utf-8\")\n",
    "nums = file.read()\n",
    "nums = nums.split(' ')\n",
    "dack = Dack()\n",
    "digitsPlus = Dack()\n",
    "digitsMinus = Dack()\n",
    "for i in range(len(nums)):\n",
    "    dack.pushBack(int(nums[i]))\n",
    "file.close()\n",
    "checkDigit(dack)\n",
    "while not digitsPlus.isEmpty():\n",
    "    print(digitsPlus.popFront(), end=' ')\n",
    "while not digitsMinus.isEmpty():\n",
    "    print(digitsMinus.popFront(), end=' ')"
   ]
  },
  {
   "cell_type": "markdown",
   "id": "b9228191",
   "metadata": {},
   "source": [
    "### Задание №8\n",
    "Дан текстовый файл. Используя стек, сформировать новый текстовый файл, содержащий строки исходного файла, записанные в обратном порядке: первая строка становится последней, вторая – предпоследней и т.д."
   ]
  },
  {
   "cell_type": "code",
   "execution_count": 83,
   "id": "981fbdfe",
   "metadata": {},
   "outputs": [
    {
     "name": "stdout",
     "output_type": "stream",
     "text": [
      "Я помню чудное мгновенье\n",
      "Я памятник себе воздвиг нерукотворный\n",
      "Узник\n",
      "Письмо Татьяны к Онегину\n",
      "19 октября\n",
      "Кавказский пленник\n",
      "У лукоморья дуб зеленый\n",
      "Зима, Крестьянин, торжествуя\n",
      "Евгений Онегин\n",
      "\n",
      "Евгений Онегин\n",
      "Зима, Крестьянин, торжествуя\n",
      "У лукоморья дуб зеленый\n",
      "Кавказский пленник\n",
      "19 октября\n",
      "Письмо Татьяны к Онегину\n",
      "Узник\n",
      "Я памятник себе воздвиг нерукотворный\n",
      "Я помню чудное мгновенье\n"
     ]
    }
   ],
   "source": [
    "file1 = open(\"C:\\\\Users\\\\kamga\\\\Downloads\\\\Telegram Desktop\\\\lab4_old.txt\",encoding=\"utf-8\")\n",
    "stack = Stack()\n",
    "for line in file1:\n",
    "    print(line, end = \"\")\n",
    "    stack.push(line.replace('\\n',\"\"))\n",
    "file1.close()\n",
    "print(\"\\n\")\n",
    "\n",
    "file2 = open(\"C:\\\\Users\\\\kamga\\\\Downloads\\\\Telegram Desktop\\\\lab4_new.txt\",'r+',encoding=\"utf-8\")\n",
    "while not stack.isEmpty():\n",
    "    a = stack.pop()\n",
    "    print(a)\n",
    "    file2.write(a + '\\n')\n",
    "file2.close()"
   ]
  },
  {
   "cell_type": "markdown",
   "id": "rental-jerusalem",
   "metadata": {},
   "source": [
    "### Вывод\n"
   ]
  },
  {
   "cell_type": "markdown",
   "id": "0c2b8899",
   "metadata": {},
   "source": []
  }
 ],
 "metadata": {
  "kernelspec": {
   "display_name": "Python 3 (ipykernel)",
   "language": "python",
   "name": "python3"
  },
  "language_info": {
   "codemirror_mode": {
    "name": "ipython",
    "version": 3
   },
   "file_extension": ".py",
   "mimetype": "text/x-python",
   "name": "python",
   "nbconvert_exporter": "python",
   "pygments_lexer": "ipython3",
   "version": "3.10.2"
  }
 },
 "nbformat": 4,
 "nbformat_minor": 5
}
