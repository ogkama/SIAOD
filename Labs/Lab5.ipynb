{
 "cells": [
  {
   "cell_type": "markdown",
   "metadata": {
    "id": "WPvB9TcMmKA6"
   },
   "source": [
    "# Лабораторная работа №5\n",
    "# Рекурсия. Фракталы."
   ]
  },
  {
   "cell_type": "markdown",
   "metadata": {
    "id": "96Gi_LEvmSVH"
   },
   "source": [
    "## Выполнил студент группы БВТ2004 Газизов Камил Ильдарович\n",
    "***"
   ]
  },
  {
   "cell_type": "markdown",
   "metadata": {
    "id": "4clYOyb0mbEv"
   },
   "source": [
    "### Задание:\n",
    "Реализовать генерацию заданного типа фрактала с применением рекурсивных функций.\n",
    "\n",
    "\n",
    "Добавить возможность задания глубины фрактала. \n",
    "\n",
    "\n",
    "Оценить глубину рекурсии. \n",
    "\n",
    "\n",
    "Построить таблицу зависимости времени построения от глубины фрактала."
   ]
  },
  {
   "cell_type": "markdown",
   "metadata": {
    "id": "wDXHbUmMmhRL"
   },
   "source": [
    "### Список фракталов:\n",
    "\n",
    "Кривая Коха\n",
    "| Кривая Гильберта\n",
    "| Кривая Серпинского\n",
    "| Салфетка Серпинского\n",
    "| Ковер Серпинского\n",
    "| Дерево Пифагора "
   ]
  },
  {
   "cell_type": "markdown",
   "metadata": {
    "id": "Wggfn8l7nG72"
   },
   "source": [
    "### Выполнение:"
   ]
  },
  {
   "cell_type": "code",
   "execution_count": 22,
   "metadata": {},
   "outputs": [],
   "source": [
    "import ipyturtle3 as turtle\n",
    "from ipyturtle3 import hold_canvas\n",
    "import time\n",
    "\n",
    "def printTable(depth):\n",
    "    print ('n', '  время')\n",
    "    for i in range(len(depth)):\n",
    "        print (i+1,' ', round(depth[i],6))"
   ]
  },
  {
   "cell_type": "code",
   "execution_count": 23,
   "metadata": {
    "id": "681a95mZnOSa"
   },
   "outputs": [
    {
     "data": {
      "application/vnd.jupyter.widget-view+json": {
       "model_id": "32558147b3374be7879a0c1443100bdf",
       "version_major": 2,
       "version_minor": 0
      },
      "text/plain": [
       "Canvas(height=250, width=300)"
      ]
     },
     "metadata": {},
     "output_type": "display_data"
    },
    {
     "data": {
      "application/vnd.jupyter.widget-view+json": {
       "model_id": "300a40fa7eba40b8a615cb76b3963735",
       "version_major": 2,
       "version_minor": 0
      },
      "text/plain": [
       "Canvas(height=250, width=300)"
      ]
     },
     "metadata": {},
     "output_type": "display_data"
    },
    {
     "data": {
      "application/vnd.jupyter.widget-view+json": {
       "model_id": "ce044abe6d0242f6beb430e006630164",
       "version_major": 2,
       "version_minor": 0
      },
      "text/plain": [
       "Canvas(height=250, width=300)"
      ]
     },
     "metadata": {},
     "output_type": "display_data"
    },
    {
     "name": "stdout",
     "output_type": "stream",
     "text": [
      "n   время\n",
      "1   0.334703\n",
      "2   1.565248\n",
      "3   6.143909\n"
     ]
    }
   ],
   "source": [
    "def koch(size, n):    \n",
    "    if n == 0:\n",
    "        t.forward(size)\n",
    "    else:\n",
    "        koch(size / 3, n - 1)\n",
    "        t.left(60)\n",
    "        koch(size / 3, n - 1)\n",
    "        t.right(120)\n",
    "        koch(size / 3, n - 1)\n",
    "        t.left(60)\n",
    "        koch(size / 3, n - 1)\n",
    "        \n",
    "def drawSnowflake(size, n):\n",
    "    for i in range(3):\n",
    "        koch(size, n)\n",
    "        t.right(120)\n",
    "        \n",
    "depth = []\n",
    "for i in range(1, 4):\n",
    "    myCanvas = turtle.Canvas(width=300,height=250)\n",
    "    display(myCanvas)\n",
    "    myTS = turtle.TurtleScreen(myCanvas)\n",
    "    myTS.clear()\n",
    "    myTS.bgcolor(\"white\")\n",
    "    t = turtle.Turtle(myTS)\n",
    "    t.speed(100)\n",
    "    t.pencolor('red')\n",
    "    start_time = (time.perf_counter())\n",
    "    drawSnowflake(140, i)\n",
    "    end_time = (time.perf_counter())\n",
    "    depth.append(end_time - start_time)\n",
    "\n",
    "printTable(depth)"
   ]
  },
  {
   "cell_type": "code",
   "execution_count": null,
   "metadata": {},
   "outputs": [],
   "source": []
  },
  {
   "cell_type": "code",
   "execution_count": 12,
   "metadata": {},
   "outputs": [
    {
     "data": {
      "application/vnd.jupyter.widget-view+json": {
       "model_id": "d8c39d8413c84415af9d4db73f25aa6e",
       "version_major": 2,
       "version_minor": 0
      },
      "text/plain": [
       "Canvas(width=500)"
      ]
     },
     "metadata": {},
     "output_type": "display_data"
    },
    {
     "data": {
      "application/vnd.jupyter.widget-view+json": {
       "model_id": "bc7e5718d38b4fe69dada00b878b177d",
       "version_major": 2,
       "version_minor": 0
      },
      "text/plain": [
       "Canvas(width=500)"
      ]
     },
     "metadata": {},
     "output_type": "display_data"
    },
    {
     "data": {
      "application/vnd.jupyter.widget-view+json": {
       "model_id": "402658da90ff48698f86d22076b89a91",
       "version_major": 2,
       "version_minor": 0
      },
      "text/plain": [
       "Canvas(width=500)"
      ]
     },
     "metadata": {},
     "output_type": "display_data"
    },
    {
     "name": "stdout",
     "output_type": "stream",
     "text": [
      "n   время\n",
      "1   0.10477\n",
      "2   0.544366\n",
      "3   2.31516\n"
     ]
    }
   ],
   "source": [
    "def gilbert(size, n, doFlip = False):\n",
    "    if (n==1):\n",
    "        if (doFlip):\n",
    "            t.left(90)\n",
    "            t.forward(size/3)\n",
    "            t.left(90)\n",
    "            t.forward(size/3)\n",
    "            t.left(90)\n",
    "            t.forward(size/3)\n",
    "        else:\n",
    "            t.left(90)\n",
    "            t.forward(size/3)\n",
    "            t.right(90)\n",
    "            t.forward(size/3)\n",
    "            t.right(90)\n",
    "            t.forward(size/3)\n",
    "    else:\n",
    "        if (doFlip):\n",
    "            t.left(90)\n",
    "            gilbert(size, n-1)\n",
    "            t.left(90)\n",
    "            t.forward(size/3)\n",
    "            t.right(90)\n",
    "            gilbert(size, n-1, True)\n",
    "            t.right(90)\n",
    "            t.forward(size/3)\n",
    "            t.right(180)\n",
    "            gilbert(size, n-1, True)\n",
    "            t.forward(size/3)\n",
    "            gilbert(size, n-1)\n",
    "            t.left(90)\n",
    "        else:\n",
    "            t.right(90)\n",
    "            gilbert(size, n-1, True)\n",
    "            t.right(90)\n",
    "            t.forward(size/3)\n",
    "            t.right(90)\n",
    "            gilbert(size, n-1)\n",
    "            t.left(90)\n",
    "            t.forward(size/3)\n",
    "            gilbert(size, n-1)\n",
    "            t.forward(size/3)\n",
    "            t.right(180)\n",
    "            gilbert(size, n-1, True)\n",
    "            t.right(90)\n",
    "\n",
    "    \n",
    "depth = []\n",
    "for i in range(1, 4):\n",
    "    myCanvas = turtle.Canvas(width=500,height=500)\n",
    "    display(myCanvas)\n",
    "    myTS = turtle.TurtleScreen(myCanvas)\n",
    "    myTS.clear()\n",
    "    myTS.bgcolor(\"white\")\n",
    "    t = turtle.Turtle(myTS)\n",
    "    t.pencolor('red')\n",
    "    t.speed(100)\n",
    "    start_time = (time.perf_counter())\n",
    "    gilbert(80, i)\n",
    "    end_time = (time.perf_counter())\n",
    "    depth.append(end_time - start_time)\n",
    "\n",
    "printTable(depth)"
   ]
  },
  {
   "cell_type": "code",
   "execution_count": 17,
   "metadata": {},
   "outputs": [
    {
     "data": {
      "application/vnd.jupyter.widget-view+json": {
       "model_id": "8e0021bb8e2646e5a9a66026e0d94efc",
       "version_major": 2,
       "version_minor": 0
      },
      "text/plain": [
       "Canvas(width=500)"
      ]
     },
     "metadata": {},
     "output_type": "display_data"
    },
    {
     "data": {
      "application/vnd.jupyter.widget-view+json": {
       "model_id": "1e976463d400425bbfe0f520b5faa7c6",
       "version_major": 2,
       "version_minor": 0
      },
      "text/plain": [
       "Canvas(width=500)"
      ]
     },
     "metadata": {},
     "output_type": "display_data"
    },
    {
     "data": {
      "application/vnd.jupyter.widget-view+json": {
       "model_id": "a48626f0b68641a49a2e0572f7f3d144",
       "version_major": 2,
       "version_minor": 0
      },
      "text/plain": [
       "Canvas(width=500)"
      ]
     },
     "metadata": {},
     "output_type": "display_data"
    },
    {
     "name": "stdout",
     "output_type": "stream",
     "text": [
      "n   время\n",
      "1   0.084524\n",
      "2   0.225472\n",
      "3   0.731584\n"
     ]
    }
   ],
   "source": [
    "def curvSerp(size, n, var='A'):\n",
    "    if n == 0:\n",
    "        t.forward(size)\n",
    "        return\n",
    "    match var:\n",
    "        case 'G':\n",
    "            # парвило G\n",
    "            curvSerp(size, n-1, 'G')\n",
    "            curvSerp(size, n-1, 'G')\n",
    "        case 'F':\n",
    "            # правило F\n",
    "            curvSerp(size, n-1, 'F')\n",
    "            t.left(120)\n",
    "            curvSerp(size, n-1, 'G')\n",
    "            t.right(120)\n",
    "            curvSerp(size, n-1, 'F')\n",
    "            t.right(120)\n",
    "            curvSerp(size, n-1, 'G')\n",
    "            t.left(120)\n",
    "            curvSerp(size, n-1, 'F')\n",
    "        case 'A':\n",
    "            # аксиома\n",
    "            curvSerp(size, n-1, 'F')\n",
    "            t.left(120)\n",
    "            curvSerp(size, n-1, 'G')\n",
    "            t.left(120)\n",
    "            curvSerp(size, n-1, 'G')\n",
    "\n",
    "depth = []\n",
    "for i in range(1, 4):\n",
    "    myCanvas = turtle.Canvas(width=500,height=500)\n",
    "    display(myCanvas)\n",
    "    myTS = turtle.TurtleScreen(myCanvas)\n",
    "    myTS.clear()\n",
    "    myTS.bgcolor(\"white\")\n",
    "    t = turtle.Turtle(myTS)\n",
    "    t.pencolor('red')\n",
    "    t.speed(100)\n",
    "\n",
    "    start_time = (time.perf_counter())\n",
    "    curvSerp(50, i)\n",
    "    end_time = (time.perf_counter())\n",
    "    depth.append(end_time - start_time)\n",
    "\n",
    "printTable(depth)"
   ]
  },
  {
   "cell_type": "code",
   "execution_count": 24,
   "metadata": {},
   "outputs": [
    {
     "data": {
      "application/vnd.jupyter.widget-view+json": {
       "model_id": "a33ba69844fd4241ae89028de14d3e6e",
       "version_major": 2,
       "version_minor": 0
      },
      "text/plain": [
       "Canvas(width=500)"
      ]
     },
     "metadata": {},
     "output_type": "display_data"
    },
    {
     "data": {
      "application/vnd.jupyter.widget-view+json": {
       "model_id": "073e98e20e144cee9c70c0a176e3b79d",
       "version_major": 2,
       "version_minor": 0
      },
      "text/plain": [
       "Canvas(width=500)"
      ]
     },
     "metadata": {},
     "output_type": "display_data"
    },
    {
     "data": {
      "application/vnd.jupyter.widget-view+json": {
       "model_id": "c5c3d8927c744357a6fd5adf15db6830",
       "version_major": 2,
       "version_minor": 0
      },
      "text/plain": [
       "Canvas(width=500)"
      ]
     },
     "metadata": {},
     "output_type": "display_data"
    },
    {
     "name": "stdout",
     "output_type": "stream",
     "text": [
      "n   время\n",
      "1   0.187109\n",
      "2   1.635934\n",
      "3   12.768375\n"
     ]
    }
   ],
   "source": [
    "def serpCarpet(n, x_1, x_2, y_1, y_2):\n",
    "    if n == 0:\n",
    "        return\n",
    "    elif n == 1:\n",
    "        width = x_2 - x_1\n",
    "        center_x = (x_2 + x_1) >> 1\n",
    "        height = y_2 - y_1\n",
    "        center_y = (y_2 + y_1) >> 1\n",
    "\n",
    "        t.penup()\n",
    "        t.setpos(center_x - width/6, center_y - height/6)\n",
    "        t.pendown()\n",
    "        t.forward(width/3)\n",
    "        t.left(90)\n",
    "        t.forward(height/3)\n",
    "        t.left(90)\n",
    "        t.forward(width/3)\n",
    "        t.left(90)\n",
    "        t.forward(height/3)\n",
    "        t.left(90)\n",
    "    else:\n",
    "        width = x_2 - x_1\n",
    "        height = y_2 - y_1\n",
    "\n",
    "        for i in range(0, 3):\n",
    "            serpinskiy_carpet(n-1, x_1 + width*i//3, x_1 + width*(i+1)//3, y_1, y_1 + height//3)\n",
    "            serpinskiy_carpet(n-1, x_1 + width*i//3, x_1 + width*(i+1)//3, y_1+2*height//3, y_1 + 3*height//3)\n",
    "            \n",
    "        serpinskiy_carpet(n-1, x_1, x_1 + width//3, y_1 + height//3, y_1 + height*2//3)\n",
    "        serpinskiy_carpet(n-1, x_1 + width*2//3, x_1 + width, y_1 + height//3, y_1 + height*2//3)\n",
    "        serpinskiy_carpet(1, x_1, x_2, y_1,y_2)\n",
    "        \n",
    "\n",
    "depth = []\n",
    "for i in range(1, 4):\n",
    "    myCanvas = turtle.Canvas(width=500, height=500)\n",
    "    display(myCanvas)\n",
    "    myTS = turtle.TurtleScreen(myCanvas)\n",
    "    myTS.clear()\n",
    "    myTS.bgcolor(\"white\")\n",
    "    t = turtle.Turtle(myTS)\n",
    "    t.pencolor('red')\n",
    "    t.speed(100)\n",
    "\n",
    "    start_time = (time.perf_counter())\n",
    "    serpCarpet(i, -250, 250, -250, 250)    \n",
    "    end_time = (time.perf_counter())\n",
    "    depth.append(end_time - start_time)\n",
    "\n",
    "printTable(depth)"
   ]
  },
  {
   "cell_type": "code",
   "execution_count": 29,
   "metadata": {},
   "outputs": [
    {
     "data": {
      "application/vnd.jupyter.widget-view+json": {
       "model_id": "fcbfae7b8fb44628bd7fd6bce03abecb",
       "version_major": 2,
       "version_minor": 0
      },
      "text/plain": [
       "Canvas(width=500)"
      ]
     },
     "metadata": {},
     "output_type": "display_data"
    },
    {
     "data": {
      "application/vnd.jupyter.widget-view+json": {
       "model_id": "1e72454acaac4baba714123b4e16dfe1",
       "version_major": 2,
       "version_minor": 0
      },
      "text/plain": [
       "Canvas(width=500)"
      ]
     },
     "metadata": {},
     "output_type": "display_data"
    },
    {
     "data": {
      "application/vnd.jupyter.widget-view+json": {
       "model_id": "59302f2d264c4a6a9a8cab20413d7822",
       "version_major": 2,
       "version_minor": 0
      },
      "text/plain": [
       "Canvas(width=500)"
      ]
     },
     "metadata": {},
     "output_type": "display_data"
    },
    {
     "data": {
      "application/vnd.jupyter.widget-view+json": {
       "model_id": "4d8806a547a243e6ba73db7f525ea8e8",
       "version_major": 2,
       "version_minor": 0
      },
      "text/plain": [
       "Canvas(width=500)"
      ]
     },
     "metadata": {},
     "output_type": "display_data"
    },
    {
     "data": {
      "application/vnd.jupyter.widget-view+json": {
       "model_id": "dd00e12949634d12afc050a672711201",
       "version_major": 2,
       "version_minor": 0
      },
      "text/plain": [
       "Canvas(width=500)"
      ]
     },
     "metadata": {},
     "output_type": "display_data"
    },
    {
     "data": {
      "application/vnd.jupyter.widget-view+json": {
       "model_id": "e6a1d3753f7e411684cec80a29c1055d",
       "version_major": 2,
       "version_minor": 0
      },
      "text/plain": [
       "Canvas(width=500)"
      ]
     },
     "metadata": {},
     "output_type": "display_data"
    },
    {
     "name": "stdout",
     "output_type": "stream",
     "text": [
      "n   время\n",
      "1   0.132263\n",
      "2   0.490352\n",
      "3   1.243606\n",
      "4   2.786542\n",
      "5   5.512134\n",
      "6   11.493665\n"
     ]
    }
   ],
   "source": [
    "from math import sqrt\n",
    "\n",
    "def pTree(n, size, is_right=False):\n",
    "    if n == 1:\n",
    "        if (not is_right):\n",
    "            t.forward(size)\n",
    "            t.left(90)\n",
    "            t.forward(size)\n",
    "            p1 = t.pos()\n",
    "            t.left(90)\n",
    "            t.forward(size)\n",
    "            p2 = t.pos()\n",
    "            t.left(90)\n",
    "            t.forward(size)\n",
    "            t.left(135)\n",
    "\n",
    "            return [p1, p2]\n",
    "        else:\n",
    "            t.right(45)\n",
    "            t.forward(size)\n",
    "            t.left(90)\n",
    "            p1 = t.pos()\n",
    "            t.forward(size)\n",
    "            p2 = t.pos()\n",
    "            t.left(90)\n",
    "            t.forward(size)\n",
    "            t.left(90)\n",
    "            t.forward(size)\n",
    "            t.left(90)\n",
    "            return [p2, p1]\n",
    "    else:\n",
    "        s = sqrt(size**2/2)\n",
    "        p1, p2 = pTree(1, size, is_right)\n",
    "        t.penup()\n",
    "        t.setpos(p2)\n",
    "        t.pendown()\n",
    "        st = t.heading()\n",
    "        pTree(n-1, s, is_right)\n",
    "        st2 = t.heading()\n",
    "        t.penup()\n",
    "        t.setpos(p1)\n",
    "        t.pendown()\n",
    "        pTree(n-1, s, not is_right)\n",
    "\n",
    "\n",
    "depth = []\n",
    "for i in range(1, 7):\n",
    "    myCanvas = turtle.Canvas(width=500, height=500)\n",
    "    display(myCanvas)\n",
    "    myTS = turtle.TurtleScreen(myCanvas)\n",
    "    myTS.clear()\n",
    "    myTS.bgcolor(\"white\")\n",
    "    t = turtle.Turtle(myTS)\n",
    "    t.pencolor('red')\n",
    "    t.speed(100)\n",
    "    \n",
    "    start_time = (time.perf_counter())\n",
    "    pTree(i, 100);    \n",
    "    end_time = (time.perf_counter())\n",
    "    depth.append(end_time - start_time)\n",
    "\n",
    "printTable(depth)"
   ]
  },
  {
   "cell_type": "markdown",
   "metadata": {
    "id": "diOb-K7LnO5a"
   },
   "source": [
    "### Вывод"
   ]
  },
  {
   "cell_type": "markdown",
   "metadata": {},
   "source": [
    "Фракта́л — множество, обладающее свойством самоподобия (объект, в точности или приближённо совпадающий с частью себя самого, то есть целое имеет ту же форму, что и одна или более частей)."
   ]
  },
  {
   "cell_type": "code",
   "execution_count": null,
   "metadata": {},
   "outputs": [],
   "source": []
  }
 ],
 "metadata": {
  "colab": {
   "collapsed_sections": [],
   "name": "Lab5.ipynb",
   "provenance": []
  },
  "kernelspec": {
   "display_name": "Python 3 (ipykernel)",
   "language": "python",
   "name": "python3"
  },
  "language_info": {
   "codemirror_mode": {
    "name": "ipython",
    "version": 3
   },
   "file_extension": ".py",
   "mimetype": "text/x-python",
   "name": "python",
   "nbconvert_exporter": "python",
   "pygments_lexer": "ipython3",
   "version": "3.10.2"
  }
 },
 "nbformat": 4,
 "nbformat_minor": 1
}
