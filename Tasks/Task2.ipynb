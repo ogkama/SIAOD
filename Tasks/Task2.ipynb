{
 "cells": [
  {
   "cell_type": "markdown",
   "id": "244314fb",
   "metadata": {},
   "source": [
    "# БВТ2004 Газизов Камил\n",
    "# Задание 1"
   ]
  },
  {
   "cell_type": "markdown",
   "id": "64630386",
   "metadata": {},
   "source": [
    "Даны две строки: `s1` и `s2` с одинаковым размером.\n",
    "\n",
    "Проверьте, может ли некоторая перестановка строки `s1` “победить” некоторую перестановку строки `s2` или наоборот.\n",
    "\n",
    "Строка x может “победить” строку y (обе имеют размер n), если `x[i] >= y[i]` (в алфавитном порядке) для всех i от 0 до n-1.\n"
   ]
  },
  {
   "cell_type": "markdown",
   "id": "cf51dab2",
   "metadata": {},
   "source": [
    "## Ввод"
   ]
  },
  {
   "cell_type": "markdown",
   "id": "d697a747",
   "metadata": {},
   "source": [
    "`abc`\n",
    "`xya`"
   ]
  },
  {
   "cell_type": "markdown",
   "id": "50b10a2e",
   "metadata": {},
   "source": [
    "## Вывод"
   ]
  },
  {
   "cell_type": "markdown",
   "id": "55442a49",
   "metadata": {},
   "source": [
    "`True`\n",
    "\n",
    "### Исполняемый код записать в ячейку ниже:"
   ]
  },
  {
   "cell_type": "code",
   "execution_count": 1,
   "id": "3b0d440a",
   "metadata": {},
   "outputs": [
    {
     "name": "stdout",
     "output_type": "stream",
     "text": [
      "abc\n",
      "xya\n",
      "True\n"
     ]
    }
   ],
   "source": [
    "def winString(s1, s2):\n",
    "    s1 = sorted(s1, reverse=True)\n",
    "    s2 = sorted(s2, reverse=True)\n",
    "    if s1 < s2: s1, s2 = s2, s1\n",
    "    for i in range(len(s1)) :\n",
    "        if (s1[i] < s2[i]):\n",
    "            return False\n",
    "    return True\n",
    "        \n",
    "print(winString(input(),input()))"
   ]
  },
  {
   "cell_type": "markdown",
   "id": "b3a969a6",
   "metadata": {},
   "source": [
    "# Задание 2"
   ]
  },
  {
   "cell_type": "markdown",
   "id": "9c1ce05d",
   "metadata": {},
   "source": [
    "Дана строка `s`, вернуть самую длинную полиндромную подстроку в `s`."
   ]
  },
  {
   "cell_type": "markdown",
   "id": "20415c0e",
   "metadata": {},
   "source": [
    "## Ввод"
   ]
  },
  {
   "cell_type": "markdown",
   "id": "e77fcb44",
   "metadata": {},
   "source": [
    "`babad`"
   ]
  },
  {
   "cell_type": "markdown",
   "id": "49996449",
   "metadata": {},
   "source": [
    "## Вывод"
   ]
  },
  {
   "cell_type": "markdown",
   "id": "75be2464",
   "metadata": {},
   "source": [
    "`aba` или `bab`"
   ]
  },
  {
   "cell_type": "markdown",
   "id": "12ef9771",
   "metadata": {},
   "source": [
    "## Исполняемый код записывать в ячейку ниже"
   ]
  },
  {
   "cell_type": "code",
   "execution_count": 2,
   "id": "3f06c4fc",
   "metadata": {},
   "outputs": [
    {
     "name": "stdout",
     "output_type": "stream",
     "text": [
      "ababcrxrxb\n",
      "aba\n"
     ]
    }
   ],
   "source": [
    "def longest(s):\n",
    "    maxS = \"\"\n",
    "    for i in range(len(s) - 1):\n",
    "        for j in range(i + 1, len(s)):\n",
    "            if (s[i] == s[j]):   \n",
    "                if  s[i:j+1] == s[i:j+1][::-1]:\n",
    "                    curr = s[i:j+1]\n",
    "                    if len(curr) > len(maxS):\n",
    "                        maxS = curr\n",
    "    return maxS if maxS != \"\" else s[0]\n",
    "\n",
    "print(longest(input()))"
   ]
  },
  {
   "cell_type": "markdown",
   "id": "5f54b630",
   "metadata": {},
   "source": [
    "# Задание 3"
   ]
  },
  {
   "cell_type": "markdown",
   "id": "566f1d3b",
   "metadata": {},
   "source": [
    "Вернуть количество отдельных непустых подстрок текста, которые могут быть записаны как конкатенация некоторой строки с самой собой (т.е. она может быть записана, как `a + a`, где `a` - некоторая строка)."
   ]
  },
  {
   "cell_type": "markdown",
   "id": "0f734fd8",
   "metadata": {},
   "source": [
    "## Ввод"
   ]
  },
  {
   "cell_type": "markdown",
   "id": "e0be5554",
   "metadata": {},
   "source": [
    "`aabb`"
   ]
  },
  {
   "cell_type": "markdown",
   "id": "ab8eda0b",
   "metadata": {},
   "source": [
    "## Вывод"
   ]
  },
  {
   "cell_type": "markdown",
   "id": "1d716d36",
   "metadata": {},
   "source": [
    "2"
   ]
  },
  {
   "cell_type": "markdown",
   "id": "fcd91349",
   "metadata": {},
   "source": [
    "## Исполняемый код записывать в ячейку ниже"
   ]
  },
  {
   "cell_type": "code",
   "execution_count": 3,
   "id": "be07379d",
   "metadata": {},
   "outputs": [
    {
     "name": "stdout",
     "output_type": "stream",
     "text": [
      "aaabbbccbbbaaa\n",
      "9\n"
     ]
    }
   ],
   "source": [
    "def podstr(s):\n",
    "    k = 0\n",
    "    for i in range(len(s)):\n",
    "        for j in range (2, len(s) - i + 1):\n",
    "            ps = s[i:i + j]\n",
    "            if ps[:len(ps)//2] == ps[len(ps)//2:]:\n",
    "                k += 1\n",
    "    return k\n",
    "\n",
    "print(podstr(input()))"
   ]
  }
 ],
 "metadata": {
  "kernelspec": {
   "display_name": "Python 3 (ipykernel)",
   "language": "python",
   "name": "python3"
  },
  "language_info": {
   "codemirror_mode": {
    "name": "ipython",
    "version": 3
   },
   "file_extension": ".py",
   "mimetype": "text/x-python",
   "name": "python",
   "nbconvert_exporter": "python",
   "pygments_lexer": "ipython3",
   "version": "3.10.2"
  }
 },
 "nbformat": 4,
 "nbformat_minor": 5
}
