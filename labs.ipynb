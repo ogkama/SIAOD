{
 "cells": [
  {
   "cell_type": "markdown",
   "id": "fifteen-sailing",
   "metadata": {},
   "source": [
    "# Лабораторная работа №1\n",
    "## Выполнил студент группы БВТ2004 Газизов Камил Ильдарович"
   ]
  },
  {
   "cell_type": "markdown",
   "id": "particular-syndicate",
   "metadata": {},
   "source": [
    "### Оглавление\n",
    "1. [Задание 1](#Задание-№1)\n",
    "2. [Задание 2](#Задание-№2)\n",
    "3. [Задание 3](#Задание-№3)\n",
    "4. [Вывод](#Вывод)"
   ]
  },
  {
   "cell_type": "markdown",
   "id": "arctic-stocks",
   "metadata": {},
   "source": [
    "### Задание №1\n",
    "<i> Вызвать функцию print() и передать туда строку Hello, World! </i>"
   ]
  },
  {
   "cell_type": "code",
   "execution_count": 1,
   "id": "caring-truck",
   "metadata": {
    "scrolled": true
   },
   "outputs": [
    {
     "name": "stdout",
     "output_type": "stream",
     "text": [
      "Hello, World!\n"
     ]
    }
   ],
   "source": [
    "print('Hello, World!')"
   ]
  },
  {
   "cell_type": "markdown",
   "id": "maritime-conversation",
   "metadata": {},
   "source": [
    "### Задание №2\n",
    "Написать генератор случайных матриц(многомерных), который принимает\n",
    "опциональные параметры <b>m</b>, <b>n</b>, <b>min_limit</b>, <b>max_limit</b>, где <b>m</b> и <b>n</b> указывают размер\n",
    "матрицы, а <b>min_lim</b> и <b>max_lim</b> - минимальное и максимальное значение для\n",
    "генерируемого числа."
   ]
  },
  {
   "cell_type": "code",
   "execution_count": 2,
   "id": "built-contact",
   "metadata": {},
   "outputs": [],
   "source": [
    "import random\n",
    "import time\n",
    "import copy"
   ]
  },
  {
   "cell_type": "code",
   "execution_count": 3,
   "id": "alert-charm",
   "metadata": {},
   "outputs": [
    {
     "name": "stdout",
     "output_type": "stream",
     "text": [
      "Ширина матрицы: 7\n",
      "Длина матрицы: 11\n",
      "Минимальное значение: 13\n",
      "Максимальное значение: 249\n",
      "  16 182  68  93  13 210 105\n",
      "  83 134 241  60 239  54  14\n",
      "  89 224 231  95 196  44  24\n",
      "  31 199 115  21  43  42 167\n",
      "  56 238 183 129 112 143 148\n",
      " 109 216 139 212  57  54 129\n",
      " 214 130 181  67 179 152 172\n",
      "  26 159 215 244  25 103  90\n",
      " 102 198  55  99  44 208 189\n",
      " 119  89  69 101  77 165  97\n",
      " 180 191  49  42 164  21 139\n"
     ]
    }
   ],
   "source": [
    "def createMatrix(m,n,amin,amax):\n",
    "    return [[random.randint(amin,amax) for i in range(m)] for j in range(n)]\n",
    "    \n",
    "user_m = int(input('Ширина матрицы: '))\n",
    "user_n = int(input('Длина матрицы: '))\n",
    "user_min_limit = int(input('Минимальное значение: '))\n",
    "user_max_limit = int(input('Максимальное значение: '))\n",
    "matrix = createMatrix(user_m, user_n, user_min_limit, user_max_limit)\n",
    "print('\\n'.join([''.join(['{:4}'.format(elem) for elem in row]) for row in matrix]))"
   ]
  },
  {
   "cell_type": "markdown",
   "id": "catholic-roots",
   "metadata": {},
   "source": [
    "### Задание №3\n",
    "Реализовать методы сортировки строк числовой матрицы в соответствии с\n",
    "заданием. Оценить время работы каждого алгоритма сортировки и сравнить его со\n",
    "временем стандартной функции сортировки. Испытания проводить на сгенерированных\n",
    "матрицах."
   ]
  },
  {
   "cell_type": "code",
   "execution_count": 7,
   "id": "cleared-anniversary",
   "metadata": {},
   "outputs": [
    {
     "name": "stdout",
     "output_type": "stream",
     "text": [
      "--- 0.094600 ms ---\n",
      "  13  16  68  93 105 182 210\n",
      "  14  54  60  83 134 239 241\n",
      "  21  42  31  43 115 167 199\n",
      "  21  49  42 139 164 180 191\n",
      "  24  44  89  95 196 224 231\n",
      "  25  26  90 103 159 215 244\n",
      "  44  55  99 102 189 198 208\n",
      "  54  57 109 129 139 212 216\n",
      "  56 112 129 143 148 183 238\n",
      "  67 130 152 172 179 181 214\n",
      "  69  77  89  97 101 119 165\n"
     ]
    }
   ],
   "source": [
    "# Сортировка выбором.\n",
    "# Берётся срез массива, в котором минимальный элемент переносят в самый левый угол,\n",
    "# после чего срез уменьшается и цикл повторяется.\n",
    "def vstavkaSort(stroka):\n",
    "    l = len(stroka)\n",
    "    for i in range(l):\n",
    "        mindex = i\n",
    "        for j in range(i, l):\n",
    "            if stroka[i] > stroka[j]: mindex = j\n",
    "        stroka[i], stroka[mindex] = stroka[mindex], stroka[i]\n",
    "\n",
    "start_time = time.perf_counter()\n",
    "for row in matrix:\n",
    "    vstavkaSort(row)\n",
    "vstavkaSort(matrix)\n",
    "print(\"--- {:.6f} ms ---\".format((time.perf_counter() - start_time)*1000))\n",
    "print('\\n'.join([''.join(['{:4}'.format(elem) for elem in row]) for row in matrix]))"
   ]
  },
  {
   "cell_type": "code",
   "execution_count": 8,
   "id": "roman-silly",
   "metadata": {
    "scrolled": true
   },
   "outputs": [
    {
     "name": "stdout",
     "output_type": "stream",
     "text": [
      "--- 0.0644999964 ms ---\n",
      "  13  16  68  93 105 182 210\n",
      "  14  54  60  83 134 239 241\n",
      "  21  31  42  43 115 167 199\n",
      "  21  42  49 139 164 180 191\n",
      "  24  44  89  95 196 224 231\n",
      "  25  26  90 103 159 215 244\n",
      "  44  55  99 102 189 198 208\n",
      "  54  57 109 129 139 212 216\n",
      "  56 112 129 143 148 183 238\n",
      "  67 130 152 172 179 181 214\n",
      "  69  77  89  97 101 119 165\n"
     ]
    }
   ],
   "source": [
    "# Сортировка вставкой.\n",
    "def viborSort(stroka):\n",
    "    for i in range(1,len(stroka)):\n",
    "        j = i\n",
    "        while j > 0 and stroka[j-1]>stroka[j]:\n",
    "            stroka[j-1], stroka[j] = stroka[j], stroka[j-1]\n",
    "            j -= 1\n",
    "\n",
    "start_time = time.perf_counter()\n",
    "for row in matrix:\n",
    "    viborSort(row)\n",
    "viborSort(matrix)\n",
    "print(\"--- {:.10f} ms ---\".format((time.perf_counter() - start_time)*1000))\n",
    "print('\\n'.join([''.join(['{:4}'.format(elem) for elem in row]) for row in matrix]))"
   ]
  },
  {
   "cell_type": "code",
   "execution_count": 9,
   "id": "vital-implementation",
   "metadata": {},
   "outputs": [
    {
     "name": "stdout",
     "output_type": "stream",
     "text": [
      "--- 0.1123999973 ms ---\n",
      "  13  16  68  93 105 182 210\n",
      "  14  54  60  83 134 239 241\n",
      "  21  31  42  43 115 167 199\n",
      "  21  42  49 139 164 180 191\n",
      "  24  44  89  95 196 224 231\n",
      "  25  26  90 103 159 215 244\n",
      "  44  55  99 102 189 198 208\n",
      "  54  57 109 129 139 212 216\n",
      "  56 112 129 143 148 183 238\n",
      "  67 130 152 172 179 181 214\n",
      "  69  77  89  97 101 119 165\n"
     ]
    }
   ],
   "source": [
    "# Сортировка обменом. || Сортировка пузырьком.\n",
    "def bubbleSort(stroka):\n",
    "    l = len(stroka)\n",
    "    for i in range(l):\n",
    "        for j in range(1,l - i):\n",
    "            if stroka[j] > stroka[j-1]: stroka[j], stroka[j-1] = stroka[j], stroka[j-1]\n",
    "\n",
    "start_time = time.perf_counter()\n",
    "for row in matrix:\n",
    "    bubbleSort(row)\n",
    "bubbleSort(matrix)\n",
    "print(\"--- {:.10f} ms ---\".format((time.perf_counter() - start_time)*1000))\n",
    "print('\\n'.join([''.join(['{:4}'.format(elem) for elem in row]) for row in matrix]))"
   ]
  },
  {
   "cell_type": "code",
   "execution_count": 32,
   "id": "veterinary-glory",
   "metadata": {},
   "outputs": [
    {
     "name": "stdout",
     "output_type": "stream",
     "text": [
      "--- 0.0735999929 ms ---\n",
      "  13  16  68  93 105 182 210\n",
      "  14  54  60  83 134 239 241\n",
      "  21  31  42  43 115 167 199\n",
      "  21  42  49 139 164 180 191\n",
      "  24  44  89  95 196 224 231\n",
      "  25  26  90 103 159 215 244\n",
      "  44  55  99 102 189 198 208\n",
      "  54  57 109 129 139 212 216\n",
      "  56 112 129 143 148 183 238\n",
      "  67 130 152 172 179 181 214\n",
      "  69  77  89  97 101 119 165\n"
     ]
    }
   ],
   "source": [
    "# Сортировка Шелла.\n",
    "def shellaSort(stroka):\n",
    "    d = len(stroka) // 2\n",
    "    while d > 0:\n",
    "        for i in range(1,  len(stroka) - d):\n",
    "            j = i\n",
    "            while j >= 0 and stroka[j] > stroka[j+d]:\n",
    "                stroka[j], stroka[j+d] = stroka[j+d], stroka[j]\n",
    "                j-=1\n",
    "        d = d // 2\n",
    "\n",
    "start_time = time.perf_counter()\n",
    "for row in matrix:\n",
    "    shellaSort(row)\n",
    "shellaSort(matrix)\n",
    "print(\"--- {:.10f} ms ---\".format((time.perf_counter() - start_time)*1000))\n",
    "print('\\n'.join([''.join(['{:4}'.format(elem) for elem in row]) for row in matrix]))"
   ]
  },
  {
   "cell_type": "code",
   "execution_count": 31,
   "id": "correct-chaos",
   "metadata": {},
   "outputs": [
    {
     "name": "stdout",
     "output_type": "stream",
     "text": [
      "--- 0.1376000000 ms ---\n",
      "  13  16  68  93 105 182 210\n",
      "  14  54  60  83 134 239 241\n",
      "  21  31  42  43 115 167 199\n",
      "  21  42  49 139 164 180 191\n",
      "  24  44  89  95 196 224 231\n",
      "  25  26  90 103 159 215 244\n",
      "  44  55  99 102 189 198 208\n",
      "  54  57 109 129 139 212 216\n",
      "  56 112 129 143 148 183 238\n",
      "  67 130 152 172 179 181 214\n",
      "  69  77  89  97 101 119 165\n"
     ]
    }
   ],
   "source": [
    "# Быстрая сортировка.\n",
    "def fastSort(stroka):\n",
    "    l = len(stroka) \n",
    "    if l > 1:\n",
    "        mid = l // 2   \n",
    "        for i in range(l):           \n",
    "            if stroka[i] <= stroka[mid] and i > mid:\n",
    "                stroka[mid:].append(stroka[i])\n",
    "                stroka[:mid].pop(i - mid + 1)\n",
    "            elif stroka[i] > stroka[mid] and i < mid:\n",
    "                stroka[:mid].append(stroka[i])\n",
    "                stroka[mid:].pop(i)\n",
    "        fastSort(stroka[mid:]) \n",
    "        fastSort(stroka[:mid])\n",
    "\n",
    "start_time = time.perf_counter()\n",
    "for row in matrix:\n",
    "    fastSort(row)\n",
    "fastSort(matrix)\n",
    "print(\"--- {:.10f} ms ---\".format((time.perf_counter() - start_time)*1000))\n",
    "print('\\n'.join([''.join(['{:4}'.format(elem) for elem in row]) for row in matrix])) "
   ]
  },
  {
   "cell_type": "code",
   "execution_count": 29,
   "id": "0d35d04f",
   "metadata": {},
   "outputs": [
    {
     "name": "stdout",
     "output_type": "stream",
     "text": [
      "--- 0.0807000033 ms ---\n",
      "  13  16  68  93 105 182 210\n",
      "  14  54  60  83 134 239 241\n",
      "  21  31  42  43 115 167 199\n",
      "  21  42  49 139 164 180 191\n",
      "  24  44  89  95 196 224 231\n",
      "  25  26  90 103 159 215 244\n",
      "  44  55  99 102 189 198 208\n",
      "  54  57 109 129 139 212 216\n",
      "  56 112 129 143 148 183 238\n",
      "  67 130 152 172 179 181 214\n",
      "  69  77  89  97 101 119 165\n"
     ]
    }
   ],
   "source": [
    "# Турнирная сортировка с многопутевым слиянием.\n",
    "from heapq import *\n",
    "def turnirSort(stroka):\n",
    "    heap = []\n",
    "    for elem in stroka:\n",
    "        heappush(heap, elem)\n",
    "    for i in range(len(stroka)):\n",
    "        stroka[i] = heappop(heap)\n",
    "\n",
    "start_time = time.perf_counter()  \n",
    "for row in matrix:\n",
    "    turnirSort(row)\n",
    "turnirSort(matrix)\n",
    "print(\"--- {:.10f} ms ---\".format((time.perf_counter() - start_time) * 1000))\n",
    "print('\\n'.join([''.join(['{:4}'.format(elem) for elem in row]) for row in matrix])) "
   ]
  },
  {
   "cell_type": "code",
   "execution_count": 28,
   "id": "c227e3b0",
   "metadata": {},
   "outputs": [
    {
     "name": "stdout",
     "output_type": "stream",
     "text": [
      "--- 0.0806999888 ms ---\n",
      "  13  16  68  93 105 182 210\n",
      "  14  54  60  83 134 239 241\n",
      "  21  31  42  43 115 167 199\n",
      "  21  42  49 139 164 180 191\n",
      "  24  44  89  95 196 224 231\n",
      "  25  26  90 103 159 215 244\n",
      "  44  55  99 102 189 198 208\n",
      "  54  57 109 129 139 212 216\n",
      "  56 112 129 143 148 183 238\n",
      "  67 130 152 172 179 181 214\n",
      "  69  77  89  97 101 119 165\n"
     ]
    }
   ],
   "source": [
    "# Стандартная функция сортировки\n",
    "start_time = time.perf_counter()  \n",
    "for row in matrix:\n",
    "    row.sort()\n",
    "matrix.sort()\n",
    "turnirSort(matrix)\n",
    "print(\"--- {:.10f} ms ---\".format((time.perf_counter() - start_time) * 1000))\n",
    "print('\\n'.join([''.join(['{:4}'.format(elem) for elem in row]) for row in matrix])) "
   ]
  },
  {
   "cell_type": "markdown",
   "id": "rental-jerusalem",
   "metadata": {},
   "source": [
    "### Вывод\n"
   ]
  },
  {
   "cell_type": "code",
   "execution_count": null,
   "id": "19e7f6a9",
   "metadata": {},
   "outputs": [],
   "source": [
    "В данном сценарии алгоритм сортировки вставками является наиболее быстрым, при этом сортировка шелла, стандартная программная сортировка и турнирная тоже быстродейтсвенны."
   ]
  }
 ],
 "metadata": {
  "kernelspec": {
   "display_name": "Python 3 (ipykernel)",
   "language": "python",
   "name": "python3"
  },
  "language_info": {
   "codemirror_mode": {
    "name": "ipython",
    "version": 3
   },
   "file_extension": ".py",
   "mimetype": "text/x-python",
   "name": "python",
   "nbconvert_exporter": "python",
   "pygments_lexer": "ipython3",
   "version": "3.10.2"
  }
 },
 "nbformat": 4,
 "nbformat_minor": 5
}
