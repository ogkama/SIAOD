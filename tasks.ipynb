{
 "cells": [
  {
   "cell_type": "markdown",
   "id": "7fa60e38",
   "metadata": {},
   "source": [
    "Массив A состоит из целых положительных чисел длин отрезков. Составьте из трех отрезков такой треугольник, чтобы его периметр был максимально возможным. Если невозможно составить треугольник с положительной площадью функция возвращает 0."
   ]
  },
  {
   "cell_type": "code",
   "execution_count": 1,
   "id": "f0b71ea6",
   "metadata": {},
   "outputs": [
    {
     "name": "stdout",
     "output_type": "stream",
     "text": [
      "Количество элементов: 7\n",
      "Нижняя граница массива: 4\n",
      "Верхняя граница массива: 68\n",
      "[50, 68, 59, 32, 53, 62, 60]\n",
      "190\n"
     ]
    }
   ],
   "source": [
    "import random\n",
    "def triangle(strn):\n",
    "    l = len(strn)\n",
    "    if (l < 3 ): \n",
    "        return 0\n",
    "    strn.sort()\n",
    "    for i in range(l - 1, 3, -1):\n",
    "        a = strn[i]\n",
    "        b = strn[i-1]\n",
    "        c = strn[i-2]\n",
    "        if (b + c > a):\n",
    "            return(a + b + c)\n",
    "    return 0\n",
    "\n",
    "n = int(input('Количество элементов: '))\n",
    "amin = int(input('Нижняя граница массива: '))\n",
    "amax = int(input('Верхняя граница массива: '))\n",
    "mass = [random.randint(amin,amax) for i in range(n)]\n",
    "print(mass)\n",
    "print(triangle(mass))"
   ]
  },
  {
   "cell_type": "markdown",
   "id": "cfb47dfc",
   "metadata": {},
   "source": [
    "Дан массив неотрицательных целых чисел nums. Расположите их в таком порядке, чтобы вместе они образовали максимально возможное число. Замечание: Результат может быть очень большим числом, поэтому представьте его как string, а не integer."
   ]
  },
  {
   "cell_type": "code",
   "execution_count": 2,
   "id": "2a7c775f",
   "metadata": {},
   "outputs": [
    {
     "name": "stdout",
     "output_type": "stream",
     "text": [
      "Количество элементов: 13\n",
      "Нижняя граница массива: 4\n",
      "Верхняя граница массива: 80\n",
      "[55, 80, 34, 74, 69, 51, 39, 78, 66, 33, 20, 80, 37]\n",
      "99888777666555443333321000\n"
     ]
    }
   ],
   "source": [
    "import random\n",
    "def maxNumber(nums):\n",
    "    strings = [str(elem) for elem in nums]\n",
    "    string = ''\n",
    "    for elem in strings:\n",
    "        string += elem\n",
    "    digits = list(string)\n",
    "    digits.sort(reverse=True)\n",
    "    print(''.join(digits))\n",
    "\n",
    "n = int(input('Количество элементов: '))\n",
    "amin = int(input('Нижняя граница массива: '))\n",
    "amax = int(input('Верхняя граница массива: '))\n",
    "mass = [random.randint(amin,amax) for i in range(n)]\n",
    "print(mass)\n",
    "maxNumber(mass)"
   ]
  },
  {
   "cell_type": "markdown",
   "id": "a89051e8",
   "metadata": {},
   "source": [
    "Дана матрица mat размером m * n, значения целочисленные. Напишите функцию, сортирующую каждую диагональ матрицы по возрастанию и возвращающую получившуюся матрицу."
   ]
  },
  {
   "cell_type": "code",
   "execution_count": 3,
   "id": "25030f89",
   "metadata": {},
   "outputs": [
    {
     "name": "stdout",
     "output_type": "stream",
     "text": [
      "7\n",
      "11\n",
      "   5  40   5  24  84   4  59\n",
      "  76  98  54  16  41  58  41\n",
      "  67  42  81  62  48  97  49\n",
      "  12   9  41  69  98  80   3\n",
      "  31  17   3   4  13   7  25\n",
      "  34  61  85   7  59  37  82\n",
      "  90  62  12  73  98  74  12\n",
      "  32  71  10  74  20  77  67\n",
      "  68  20  55  93  65  79  29\n",
      "  13  22  49  37  95  40  48\n",
      "   9  69  31  61   9  57  82\n",
      "\n",
      "   5  40   5  24  84   4  59\n",
      "  76  12  54  16  41  58  41\n",
      "  67  42  13  62  48  97  49\n",
      "  12   9  41  25  98  80   3\n",
      "  31  17   3   4  37   7  98\n",
      "  34  61  85   7  59  81  82\n",
      "  90  62  12  73  74  74  98\n",
      "  32  71  10  69  20  77  67\n",
      "  68  20  55  93  65  79  29\n",
      "  13  22  49  37  95  40  48\n",
      "   9  69  31  61   9  57  82\n"
     ]
    }
   ],
   "source": [
    "import random\n",
    "def diagonalSort(matr,m,n):\n",
    "    d = min(m, n)\n",
    "    for _ in range(d):\n",
    "        for i in range(d - 1):\n",
    "            if (matr[i][i] > matr[i+1][i+1]):\n",
    "                matr[i][i], matr[i+1][i+1] = matr[i+1][i+1], matr[i][i]\n",
    "            if (matr[n-i-1][i] > matr[n-i-2][i+1]):\n",
    "                matr[n-i-1][i], matr[n-i-2][i+1] = matr[n-i-2][i+1], matr[n-i-1][i]  \n",
    "    \n",
    "    \n",
    "m = int(input())\n",
    "n = int(input())\n",
    "matrix = [[random.randint(1,100) for j in range(m)] for i in range(n)]\n",
    "print('\\n'.join([''.join(['{:4}'.format(elem) for elem in row]) for row in matrix]))\n",
    "print()\n",
    "diagonalSort(matrix,m,n)\n",
    "print('\\n'.join([''.join(['{:4}'.format(elem) for elem in row]) for row in matrix]))"
   ]
  }
 ],
 "metadata": {
  "kernelspec": {
   "display_name": "Python 3 (ipykernel)",
   "language": "python",
   "name": "python3"
  },
  "language_info": {
   "codemirror_mode": {
    "name": "ipython",
    "version": 3
   },
   "file_extension": ".py",
   "mimetype": "text/x-python",
   "name": "python",
   "nbconvert_exporter": "python",
   "pygments_lexer": "ipython3",
   "version": "3.10.2"
  }
 },
 "nbformat": 4,
 "nbformat_minor": 5
}
